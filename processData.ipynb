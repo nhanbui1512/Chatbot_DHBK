{
 "cells": [
  {
   "cell_type": "markdown",
   "metadata": {},
   "source": [
    "### Import Libary"
   ]
  },
  {
   "cell_type": "code",
   "execution_count": 1,
   "metadata": {},
   "outputs": [],
   "source": [
    "import torch\n",
    "import os\n",
    "import yaml\n",
    "import pandas as pd\n",
    "import re"
   ]
  },
  {
   "cell_type": "markdown",
   "metadata": {},
   "source": [
    "### Đọc danh sách file dữ liệu"
   ]
  },
  {
   "cell_type": "code",
   "execution_count": 2,
   "metadata": {},
   "outputs": [
    {
     "data": {
      "text/plain": [
       "['data.yml']"
      ]
     },
     "execution_count": 2,
     "metadata": {},
     "output_type": "execute_result"
    }
   ],
   "source": [
    "\n",
    "dir_path = './data'\n",
    "files_list = os.listdir(dir_path + os.sep)\n",
    "files_list\n"
   ]
  },
  {
   "cell_type": "markdown",
   "metadata": {},
   "source": [
    "### Đọc dữ liệu câu hỏi và câu trả lời, lưu thành 2 list"
   ]
  },
  {
   "cell_type": "code",
   "execution_count": 3,
   "metadata": {},
   "outputs": [],
   "source": [
    "questions = list()\n",
    "answers = list()\n",
    "categories = list()\n",
    "\n",
    "for filepath in files_list:\n",
    "    stream = open( dir_path + os.sep + filepath , 'rb')\n",
    "    docs = yaml.safe_load(stream)\n",
    "    conversations = docs['conversations']\n",
    "    category = docs['categories'][0]\n",
    "\n",
    "    for con in conversations:\n",
    "        if len( con ) > 2 :\n",
    "            questions.append(con[0])\n",
    "            replies = con[ 1 : ]\n",
    "            ans = ''\n",
    "            for rep in replies:\n",
    "                ans += ' ' + rep\n",
    "            answers.append( ans )\n",
    "        elif len( con )> 1:\n",
    "            questions.append(con[0])\n",
    "            answers.append(con[1])\n",
    "answers_with_tags = list()\n",
    "for i in range( len( answers ) ):\n",
    "    if type( answers[i] ) == str:\n",
    "        answers_with_tags.append( answers[i] )\n",
    "    else:\n",
    "        questions.pop( i )\n",
    "answers = list()\n",
    "for i in range( len( answers_with_tags ) ) :\n",
    "    answers.append(answers_with_tags[i] )\n"
   ]
  },
  {
   "cell_type": "markdown",
   "metadata": {},
   "source": [
    "### Biến đổi các từ thành các cụm từ có nghĩa "
   ]
  },
  {
   "cell_type": "code",
   "execution_count": 4,
   "metadata": {},
   "outputs": [],
   "source": [
    "from pyvi import ViTokenizer\n",
    "\n",
    "#! Đọc các cụm từ cần gộp từ file\n",
    "def load_phrases(file_path):\n",
    "    with open(file_path, 'r', encoding='utf-8') as file:\n",
    "        phrases = [line.strip() for line in file.readlines()]\n",
    "    return phrases\n",
    "\n",
    "file_path = 'phrases.txt'\n",
    "custom_phrases = load_phrases(file_path)\n",
    "\n",
    "def custom_tokenize(text):\n",
    "    for phrase in custom_phrases:\n",
    "        #! Gom nhóm các cụm từ có nghĩa\n",
    "        text = text.replace(phrase, phrase.replace(\" \", \"_\"))\n",
    "    return ViTokenizer.tokenize(text)\n",
    "\n",
    "\n",
    "def tokenize_sentences(sentences):\n",
    "    result = []\n",
    "    for sentence in sentences:\n",
    "        result.append(custom_tokenize(sentence))\n",
    "    return result\n"
   ]
  },
  {
   "cell_type": "markdown",
   "metadata": {},
   "source": [
    "### Loại bỏ các ký tự đặc biệt và biến đổi thành chữ thường"
   ]
  },
  {
   "cell_type": "code",
   "execution_count": 5,
   "metadata": {},
   "outputs": [
    {
     "name": "stdout",
     "output_type": "stream",
     "text": [
      "(195, 3)\n"
     ]
    }
   ],
   "source": [
    "def clean_text(text):\n",
    "    # Loại bỏ khoảng trống dư thừa giữa các từ\n",
    "    text = re.sub(r'\\s{2,}', ' ', text)\n",
    "    text = re.sub(':\\)|;\\)|:-\\)|\\(-:|:-D|=D|:P|xD|X-p|\\^\\^|:-*|\\^\\.\\^|\\^\\-\\^|\\^\\_\\^|\\,-\\)|\\)-:|:\\'\\(|:\\(|:-\\(|:\\S|T\\.T|\\.\\_\\.|:<|:-\\S|:-<|\\*\\-\\*|:O|=O|=\\-O|O\\.o|XO|O\\_O|:-\\@|=/|:/|X\\-\\(|>\\.<|>=\\(|D:', '', text)\n",
    "    text = re.sub(r'\\!', '', text) # xoa dau cham than   \n",
    "    text = re.sub(r'\\?', '', text) # xoa dau hoi cham\n",
    "    text = re.sub(r'\\.', '', text) # xoa dau cham cau\n",
    "    text = re.sub(r'#([^\\s]+)', r'\\1',text) # xóa các hastag #\n",
    "    text =  re.sub(r'[\"\\'()[]{}]', '', text) # xoa cac dau ngoac kep vs ngoac don\n",
    "    text = text.lower()\n",
    "    return text.strip()\n",
    "\n",
    "df = pd.DataFrame({\n",
    "    'questions': questions,\n",
    "    'answers': answers,\n",
    "})\n",
    "\n",
    "df['questions_processed'] = df['questions'].apply(clean_text)\n",
    "df['questions_processed'] = tokenize_sentences(df['questions_processed'])\n",
    "\n",
    "df.to_csv('data.csv',index=False)\n",
    "print(df.shape)\n"
   ]
  },
  {
   "cell_type": "markdown",
   "metadata": {},
   "source": [
    "### Load model và Tokenizer của phoBert"
   ]
  },
  {
   "cell_type": "code",
   "execution_count": 6,
   "metadata": {},
   "outputs": [],
   "source": [
    "from transformers import AutoModel, AutoTokenizer\n",
    "\n",
    "PhobertTokenizer = AutoTokenizer.from_pretrained(\"VoVanPhuc/sup-SimCSE-VietNamese-phobert-base\")\n",
    "model = AutoModel.from_pretrained(\"VoVanPhuc/sup-SimCSE-VietNamese-phobert-base\")\n"
   ]
  },
  {
   "cell_type": "markdown",
   "metadata": {},
   "source": [
    "### Embedding"
   ]
  },
  {
   "cell_type": "code",
   "execution_count": 7,
   "metadata": {},
   "outputs": [
    {
     "name": "stdout",
     "output_type": "stream",
     "text": [
      "tensor([[ 0.0387,  0.1673,  0.1168,  ..., -0.0950, -0.1295,  0.2398],\n",
      "        [ 0.2258, -0.1711,  0.2621,  ..., -0.0998, -0.3288,  0.1852],\n",
      "        [ 0.2428,  0.1397,  0.0877,  ..., -0.0598, -0.1974,  0.2529],\n",
      "        ...,\n",
      "        [ 0.0876,  0.0446, -0.1104,  ..., -0.0713, -0.3734,  0.1000],\n",
      "        [-0.0841,  0.0192,  0.0404,  ...,  0.1642, -0.1514, -0.0837],\n",
      "        [-0.0035, -0.0552, -0.1650,  ...,  0.1581, -0.2096, -0.0708]])\n",
      "torch.Size([195, 768])\n"
     ]
    }
   ],
   "source": [
    "sentences = df['questions_processed'].tolist()\n",
    "inputs = PhobertTokenizer(sentences, padding=True, truncation=True, return_tensors=\"pt\")\n",
    "\n",
    "with torch.no_grad():\n",
    "    embeddings = model(**inputs, output_hidden_states=True, return_dict=True).pooler_output\n",
    "\n",
    "print(embeddings)\n",
    "print(embeddings.shape)\n"
   ]
  },
  {
   "cell_type": "code",
   "execution_count": 8,
   "metadata": {},
   "outputs": [],
   "source": [
    "embedding_list = embeddings.tolist()\n",
    "df['embedding'] = embedding_list\n",
    "\n"
   ]
  },
  {
   "cell_type": "code",
   "execution_count": 9,
   "metadata": {},
   "outputs": [],
   "source": [
    "import numpy as np\n",
    "\n",
    "# Giả sử tensor_embeddings là tensor cần lưu\n",
    "tensor_embeddings = embeddings.numpy()  # Chuyển từ Torch tensor sang NumPy array\n",
    "\n",
    "\n",
    "np.save(\"embeddings.npy\", tensor_embeddings)"
   ]
  }
 ],
 "metadata": {
  "kernelspec": {
   "display_name": "Python 3",
   "language": "python",
   "name": "python3"
  },
  "language_info": {
   "codemirror_mode": {
    "name": "ipython",
    "version": 3
   },
   "file_extension": ".py",
   "mimetype": "text/x-python",
   "name": "python",
   "nbconvert_exporter": "python",
   "pygments_lexer": "ipython3",
   "version": "3.10.7"
  }
 },
 "nbformat": 4,
 "nbformat_minor": 2
}
